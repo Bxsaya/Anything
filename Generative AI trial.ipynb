{
 "cells": [
  {
   "cell_type": "code",
   "execution_count": 1,
   "metadata": {},
   "outputs": [
    {
     "data": {
      "text/html": [
       "<div>\n",
       "<style scoped>\n",
       "    .dataframe tbody tr th:only-of-type {\n",
       "        vertical-align: middle;\n",
       "    }\n",
       "\n",
       "    .dataframe tbody tr th {\n",
       "        vertical-align: top;\n",
       "    }\n",
       "\n",
       "    .dataframe thead th {\n",
       "        text-align: right;\n",
       "    }\n",
       "</style>\n",
       "<table border=\"1\" class=\"dataframe\">\n",
       "  <thead>\n",
       "    <tr style=\"text-align: right;\">\n",
       "      <th></th>\n",
       "      <th>Hotel</th>\n",
       "      <th>Distance_from_beach</th>\n",
       "      <th>Description</th>\n",
       "      <th>Rating</th>\n",
       "    </tr>\n",
       "  </thead>\n",
       "  <tbody>\n",
       "    <tr>\n",
       "      <th>0</th>\n",
       "      <td>The Villa Luxury Suites Hotel</td>\n",
       "      <td>650 m from beach</td>\n",
       "      <td>Travel Sustainable property</td>\n",
       "      <td>4</td>\n",
       "    </tr>\n",
       "    <tr>\n",
       "      <th>1</th>\n",
       "      <td>Ocean Village Club (Adults Only)</td>\n",
       "      <td>Beachfront</td>\n",
       "      <td>Travel Sustainable property</td>\n",
       "      <td>4</td>\n",
       "    </tr>\n",
       "    <tr>\n",
       "      <th>2</th>\n",
       "      <td>Baobab Beach Resort &amp; Spa</td>\n",
       "      <td>Beachfront</td>\n",
       "      <td>Travel Sustainable property</td>\n",
       "      <td>4</td>\n",
       "    </tr>\n",
       "    <tr>\n",
       "      <th>3</th>\n",
       "      <td>Diani Reef Beach Resort &amp; Spa</td>\n",
       "      <td>Beachfront</td>\n",
       "      <td>Travel Sustainable property</td>\n",
       "      <td>5</td>\n",
       "    </tr>\n",
       "    <tr>\n",
       "      <th>4</th>\n",
       "      <td>Bahari Dhow Beach Villas</td>\n",
       "      <td>Beachfront</td>\n",
       "      <td>Featuring free WiFi and air conditioning, Baha...</td>\n",
       "      <td>3</td>\n",
       "    </tr>\n",
       "  </tbody>\n",
       "</table>\n",
       "</div>"
      ],
      "text/plain": [
       "                              Hotel Distance_from_beach  \\\n",
       "0     The Villa Luxury Suites Hotel    650 m from beach   \n",
       "1  Ocean Village Club (Adults Only)          Beachfront   \n",
       "2         Baobab Beach Resort & Spa          Beachfront   \n",
       "3     Diani Reef Beach Resort & Spa          Beachfront   \n",
       "4          Bahari Dhow Beach Villas          Beachfront   \n",
       "\n",
       "                                         Description  Rating  \n",
       "0                        Travel Sustainable property       4  \n",
       "1                        Travel Sustainable property       4  \n",
       "2                        Travel Sustainable property       4  \n",
       "3                        Travel Sustainable property       5  \n",
       "4  Featuring free WiFi and air conditioning, Baha...       3  "
      ]
     },
     "execution_count": 1,
     "metadata": {},
     "output_type": "execute_result"
    }
   ],
   "source": [
    "import pandas as pd\n",
    "\n",
    "df=pd.read_csv(r'C:\\Users\\user\\Diani_Hotels.csv')\n",
    "\n",
    "df.head()"
   ]
  },
  {
   "cell_type": "code",
   "execution_count": 2,
   "metadata": {},
   "outputs": [
    {
     "data": {
      "text/plain": [
       "False    19\n",
       "True      6\n",
       "Name: Hotel, dtype: int64"
      ]
     },
     "execution_count": 2,
     "metadata": {},
     "output_type": "execute_result"
    }
   ],
   "source": [
    "df.Hotel.str.contains('Villa').value_counts()"
   ]
  },
  {
   "cell_type": "code",
   "execution_count": 3,
   "metadata": {},
   "outputs": [
    {
     "data": {
      "text/plain": [
       "False    20\n",
       "True      5\n",
       "Name: Hotel, dtype: int64"
      ]
     },
     "execution_count": 3,
     "metadata": {},
     "output_type": "execute_result"
    }
   ],
   "source": [
    "df.Hotel.str.contains('Hotel').value_counts()"
   ]
  }
 ],
 "metadata": {
  "kernelspec": {
   "display_name": "Python 3",
   "language": "python",
   "name": "python3"
  },
  "language_info": {
   "codemirror_mode": {
    "name": "ipython",
    "version": 3
   },
   "file_extension": ".py",
   "mimetype": "text/x-python",
   "name": "python",
   "nbconvert_exporter": "python",
   "pygments_lexer": "ipython3",
   "version": "3.11.2"
  },
  "orig_nbformat": 4
 },
 "nbformat": 4,
 "nbformat_minor": 2
}
